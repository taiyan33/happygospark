{
 "cells": [
  {
   "cell_type": "markdown",
   "metadata": {},
   "source": [
    "## Numpy"
   ]
  },
  {
   "cell_type": "code",
   "execution_count": null,
   "metadata": {},
   "outputs": [],
   "source": [
    "%pyspark\n",
    "\n",
    "\n",
    "a = [1,2,3,'qoo', 4]\n",
    "a = [1,3,5,7,9]\n",
    "b = [2,4,6,8,10]\n",
    "\n",
    "res = []\n",
    "for i in range(0, len(a)):\n",
    "    res.append(a[i] * b[i])\n",
    "print(res)\n",
    "\n",
    "res = []\n",
    "for i,j in zip(a,b):\n",
    "    res.append(i * j)\n",
    "print(res)\n",
    "\n",
    "\n",
    "[i*j for i,j in zip(a,b)]\n",
    "\n",
    "\n",
    "import numpy \n",
    "na = numpy.array(a)\n",
    "nb = numpy.array(b)\n",
    "\n",
    "na * nb"
   ]
  },
  {
   "cell_type": "markdown",
   "metadata": {},
   "source": [
    "## Series"
   ]
  },
  {
   "cell_type": "code",
   "execution_count": null,
   "metadata": {},
   "outputs": [],
   "source": [
    "%pyspark\n",
    "\n",
    "import pandas\n",
    "sa = pandas.Series([1,2,3,4,5], index = ['a', 'b', 'c', 'd', 'e'])\n",
    "sa['a']"
   ]
  },
  {
   "cell_type": "markdown",
   "metadata": {},
   "source": [
    "## DataFrame"
   ]
  },
  {
   "cell_type": "code",
   "execution_count": null,
   "metadata": {},
   "outputs": [],
   "source": [
    "%pyspark\n",
    "import pandas as pd\n",
    "df = pd.DataFrame([['frank', 'M', 29], ['mary', 'F', 23], ['tom', 'M', 35], ['ted', 'M', 33], ['jean', 'F', 21], ['lisa', 'F', 20]])\n",
    "#df.info()\n",
    "#print(df)\n",
    "df.columns = ['name', 'gender', 'age']\n",
    "#print(df)\n",
    "\n",
    "#df.loc[[0,1,2] , ['name', 'gender'] ]\n",
    "\n",
    "df['age'].mean()\n",
    "df['age'].max()\n",
    "df['age'].min()\n",
    "df['age'].describe()\n",
    "\n",
    "df['age'][0]\n",
    "\n",
    "df['age'][0:3]\n",
    "\n",
    "\n",
    "df.describe()\n",
    "df.iloc[0]\n",
    "df.iloc[0:3]\n",
    "\n",
    "df['name']\n",
    "\n",
    "df[['name', 'age']]\n",
    "\n",
    "df[df['gender'] == 'M']\n",
    "df.loc[df['gender'] == 'M',  ['name', 'age']  ]\n",
    "\n",
    "df.loc[df['gender'] == 'F',  ['age']  ].mean()\n",
    "df.loc[df['gender'] == 'M',  ['age']  ].mean()"
   ]
  },
  {
   "cell_type": "markdown",
   "metadata": {},
   "source": [
    "## PySpark DataFrame"
   ]
  },
  {
   "cell_type": "markdown",
   "metadata": {},
   "source": [
    "### Register SqlContext"
   ]
  },
  {
   "cell_type": "code",
   "execution_count": null,
   "metadata": {},
   "outputs": [],
   "source": [
    "%pyspark\n",
    "from pyspark.sql import SQLContext \n",
    "sqlContext = SQLContext(sc)\n",
    "\n",
    "df = sqlContext.createDataFrame(row_data)\n",
    "df.registerTempTable(\"ratings\")"
   ]
  },
  {
   "cell_type": "markdown",
   "metadata": {},
   "source": [
    "### PySpark DataFrame Operation"
   ]
  },
  {
   "cell_type": "code",
   "execution_count": null,
   "metadata": {},
   "outputs": [],
   "source": [
    "%pyspark\n",
    "#df.take(5)\n",
    "#df.show(10)\n",
    "df.select('userid', 'rating').groupBy('userid').avg().show(5)"
   ]
  },
  {
   "cell_type": "markdown",
   "metadata": {},
   "source": [
    "### Print Data Schema"
   ]
  },
  {
   "cell_type": "code",
   "execution_count": null,
   "metadata": {},
   "outputs": [],
   "source": [
    "%pyspark\n",
    "df.printSchema()"
   ]
  },
  {
   "cell_type": "markdown",
   "metadata": {},
   "source": [
    "### PySpark SQL"
   ]
  },
  {
   "cell_type": "code",
   "execution_count": null,
   "metadata": {},
   "outputs": [],
   "source": [
    "%pyspark\n",
    "df.registerTempTable(\"ratings\")\n",
    "ratings_data = sqlContext.sql(\"\"\"\n",
    "     SELECT itemid,avg(rating) as avg_rating  from ratings group by itemid order by avg_rating desc \n",
    "\"\"\")\n",
    "ratings_data.show(5)"
   ]
  },
  {
   "cell_type": "markdown",
   "metadata": {},
   "source": [
    "### Use toPandas to Convert Spark DataFrame Back To Pandas DataFrame"
   ]
  },
  {
   "cell_type": "code",
   "execution_count": null,
   "metadata": {},
   "outputs": [],
   "source": [
    "%pyspark\n",
    "pandas_df = ratings_data.toPandas()\n",
    "pandas_df.columns = ['itemid', 'sum_rating']\n",
    "pandas_df.head(5)"
   ]
  },
  {
   "cell_type": "markdown",
   "metadata": {},
   "source": [
    "### Use rdd to Transform Spark DataFrame Back to RDD"
   ]
  },
  {
   "cell_type": "code",
   "execution_count": null,
   "metadata": {},
   "outputs": [],
   "source": [
    "%pyspark\n",
    "ratings_out = ratings_data.rdd.map(lambda p : 'itemid:{} - average rating: {}'.format(p.itemid, p.avg_rating))\n",
    "for ele in ratings_out.take(3):\n",
    "    print(ele)"
   ]
  },
  {
   "cell_type": "markdown",
   "metadata": {},
   "source": [
    "### Count DataFrame Lines"
   ]
  },
  {
   "cell_type": "code",
   "execution_count": null,
   "metadata": {},
   "outputs": [],
   "source": [
    "%pyspark\n",
    "ratings_data.count()"
   ]
  }
 ],
 "metadata": {
  "kernelspec": {
   "display_name": "Python 3",
   "language": "python",
   "name": "python3"
  },
  "language_info": {
   "codemirror_mode": {
    "name": "ipython",
    "version": 3
   },
   "file_extension": ".py",
   "mimetype": "text/x-python",
   "name": "python",
   "nbconvert_exporter": "python",
   "pygments_lexer": "ipython3",
   "version": "3.6.2"
  }
 },
 "nbformat": 4,
 "nbformat_minor": 2
}
