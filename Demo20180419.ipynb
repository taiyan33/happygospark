{
 "cells": [
  {
   "cell_type": "markdown",
   "metadata": {},
   "source": [
    "## Iterative Programming"
   ]
  },
  {
   "cell_type": "code",
   "execution_count": 3,
   "metadata": {},
   "outputs": [
    {
     "data": {
      "text/plain": [
       "20"
      ]
     },
     "execution_count": 3,
     "metadata": {},
     "output_type": "execute_result"
    }
   ],
   "source": [
    "a = [1,2,3,4,5,6,7,8]\n",
    "\n",
    "b = []\n",
    "for ele in a:\n",
    "    if ele % 2 == 0:\n",
    "        b.append(ele)\n",
    "\n",
    "c = sum(b)\n",
    "\n",
    "c"
   ]
  },
  {
   "cell_type": "markdown",
   "metadata": {},
   "source": [
    "## Functional Programming"
   ]
  },
  {
   "cell_type": "code",
   "execution_count": 7,
   "metadata": {},
   "outputs": [
    {
     "data": {
      "text/plain": [
       "20"
      ]
     },
     "execution_count": 7,
     "metadata": {},
     "output_type": "execute_result"
    }
   ],
   "source": [
    "# y = f(x)\n",
    "\n",
    "import numpy as np\n",
    "a = np.array([1,2,3,4,5,6,7,8])\n",
    "\n",
    "def f(ele):\n",
    "    return ele % 2 == 0\n",
    "\n",
    "b = a[f(a)]\n",
    "b\n",
    "\n",
    "sum(b)\n",
    "\n",
    "\n",
    "sum(a[f(a)])"
   ]
  },
  {
   "cell_type": "markdown",
   "metadata": {},
   "source": [
    "## RDD"
   ]
  },
  {
   "cell_type": "code",
   "execution_count": null,
   "metadata": {},
   "outputs": [],
   "source": [
    "%pyspark\n",
    "\n",
    "data = [1,2,3,4,5]\n",
    "rdd  = sc.parallelize(data, 4)\n",
    "rdd.collect()\n",
    "\n"
   ]
  },
  {
   "cell_type": "code",
   "execution_count": null,
   "metadata": {},
   "outputs": [],
   "source": [
    "%pyspark\n",
    "lines = sc.textFile('file:/tmp/trump.txt')\n",
    "lines.take(3)\n"
   ]
  },
  {
   "cell_type": "markdown",
   "metadata": {},
   "source": [
    "## Lambda"
   ]
  },
  {
   "cell_type": "code",
   "execution_count": 1,
   "metadata": {},
   "outputs": [
    {
     "data": {
      "text/plain": [
       "8"
      ]
     },
     "execution_count": 1,
     "metadata": {},
     "output_type": "execute_result"
    }
   ],
   "source": [
    "def addNum(a, b):\n",
    "    return a + b\n",
    "\n",
    "addNum(3,5)"
   ]
  },
  {
   "cell_type": "code",
   "execution_count": 2,
   "metadata": {},
   "outputs": [
    {
     "data": {
      "text/plain": [
       "11"
      ]
     },
     "execution_count": 2,
     "metadata": {},
     "output_type": "execute_result"
    }
   ],
   "source": [
    "addNum2 = lambda a, b : a+ b\n",
    "addNum2(5,6)"
   ]
  },
  {
   "cell_type": "markdown",
   "metadata": {},
   "source": [
    "## MAP"
   ]
  },
  {
   "cell_type": "code",
   "execution_count": null,
   "metadata": {},
   "outputs": [],
   "source": [
    "%pyspark\n",
    "a = [1,2,3,4]\n",
    "rdd = sc.parallelize(a)\n",
    "rdd2 = rdd.map(lambda e: e * 2)\n",
    "rdd2.count()\n",
    "rdd2.collect()"
   ]
  },
  {
   "cell_type": "markdown",
   "metadata": {},
   "source": [
    "## Filter"
   ]
  },
  {
   "cell_type": "code",
   "execution_count": null,
   "metadata": {},
   "outputs": [],
   "source": [
    "%pyspark\n",
    "a = [1,2,3,4]\n",
    "rdd = sc.parallelize(a)\n",
    "rdd2 = rdd.map(lambda e: e % 2 == 0)\n",
    "rdd3 = rdd.filter(lambda e: e % 2 == 0)\n",
    "rdd3.collect()"
   ]
  },
  {
   "cell_type": "markdown",
   "metadata": {},
   "source": [
    "## Distinct"
   ]
  },
  {
   "cell_type": "code",
   "execution_count": null,
   "metadata": {},
   "outputs": [],
   "source": [
    "%pyspark\n",
    "a = [1,4,2,2,3]\n",
    "rdd = sc.parallelize(a)\n",
    "rdd2 = rdd.distinct()\n",
    "rdd2.collect()"
   ]
  },
  {
   "cell_type": "markdown",
   "metadata": {},
   "source": [
    "## flatMap"
   ]
  },
  {
   "cell_type": "code",
   "execution_count": null,
   "metadata": {},
   "outputs": [],
   "source": [
    "%pyspark\n",
    "a = [1,2,3]\n",
    "rdd = sc.parallelize(a)\n",
    "rdd2 = rdd.map(lambda e: [e, e + 5])\n",
    "rdd3 = rdd.flatMap(lambda e: [e, e + 5])\n",
    "rdd2.collect()\n",
    "rdd3.collect()"
   ]
  },
  {
   "cell_type": "markdown",
   "metadata": {},
   "source": [
    "## Action"
   ]
  },
  {
   "cell_type": "code",
   "execution_count": null,
   "metadata": {},
   "outputs": [],
   "source": [
    "%pyspark\n",
    "a = [1,2,3]\n",
    "rdd = sc.parallelize(a)\n",
    "rdd.reduce(lambda a , b : a * b)\n",
    "rdd.take(2)\n",
    "rdd.collect()\n",
    "rdd.takeOrdered(2 )\n",
    "rdd.takeOrdered(2, lambda e : -1 * e )"
   ]
  },
  {
   "cell_type": "code",
   "execution_count": 5,
   "metadata": {},
   "outputs": [
    {
     "name": "stdout",
     "output_type": "stream",
     "text": [
      "3\n"
     ]
    }
   ],
   "source": [
    "a = '196\\t242\\t3\\t881250949'\n",
    "print(a.split()[2])\n"
   ]
  },
  {
   "cell_type": "markdown",
   "metadata": {},
   "source": [
    "## 分析電影評價數量"
   ]
  },
  {
   "cell_type": "code",
   "execution_count": null,
   "metadata": {},
   "outputs": [],
   "source": [
    "%pyspark\n",
    "#pyspark\n",
    "lines = sc.textFile(\"file:///tmp/u.data\")\n",
    "lines.take(3)\n",
    "ratings = lines.map(lambda x: int(x.split()[2]) )\n",
    "ratings.take(3)\n",
    "results = ratings.countByValue()\n",
    "results"
   ]
  },
  {
   "cell_type": "markdown",
   "metadata": {},
   "source": [
    "## 溫度分析（找出最小值）"
   ]
  },
  {
   "cell_type": "code",
   "execution_count": null,
   "metadata": {},
   "outputs": [],
   "source": [
    "%pyspark\n",
    "lines = sc.textFile(\"file:///tmp/1800.csv\")\n",
    "\n",
    "def parseLine(line):\n",
    "    fields = line.split(',')\n",
    "    stationID = fields[0]\n",
    "    entryType = fields[2]\n",
    "    temp      = float(fields[3]) * (9 / 5) + 32\n",
    "    return (stationID, entryType, temp)\n",
    "\n",
    "lines.take(3)\n",
    "#parsedLine = lines.map(lambda line : parseLine(line))\n",
    "parsedLine = lines.map(parseLine)\n",
    "parsedLine.take(3)\n",
    "\n",
    "minTemps = parsedLine.filter(lambda e: e[1] == 'TMIN')\n",
    "minTemps.take(3)\n",
    "\n",
    "stationTemps = minTemps.map(lambda x: (x[0], x[2]))\n",
    "stationTemps.take(3)\n",
    "\n",
    "minTempsByStation = stationTemps.reduceByKey(lambda x, y: min(x,y))\n",
    "minTempsByStation.collect()"
   ]
  }
 ],
 "metadata": {
  "kernelspec": {
   "display_name": "Python 3",
   "language": "python",
   "name": "python3"
  },
  "language_info": {
   "codemirror_mode": {
    "name": "ipython",
    "version": 3
   },
   "file_extension": ".py",
   "mimetype": "text/x-python",
   "name": "python",
   "nbconvert_exporter": "python",
   "pygments_lexer": "ipython3",
   "version": "3.6.2"
  }
 },
 "nbformat": 4,
 "nbformat_minor": 2
}
