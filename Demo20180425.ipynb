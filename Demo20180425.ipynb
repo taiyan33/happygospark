{
 "cells": [
  {
   "cell_type": "markdown",
   "metadata": {},
   "source": [
    "## KMeans Clustering"
   ]
  },
  {
   "cell_type": "markdown",
   "metadata": {},
   "source": [
    "### 建立KMeans 模型"
   ]
  },
  {
   "cell_type": "code",
   "execution_count": null,
   "metadata": {},
   "outputs": [],
   "source": [
    "%pyspark\n",
    "raw_data = sc.textFile('file:/tmp/iris.csv')\n",
    "raw_data.take(3)\n",
    "\n",
    "header = raw_data.first()\n",
    "skip_data = raw_data.filter(lambda line : line != header)\n",
    "skip_data.take(3)\n",
    "\n",
    "import numpy \n",
    "parsedData = skip_data.map(lambda e: \\\n",
    "    numpy.array( [float(ele) for ele in e.split(',')[0:4]] ) )\n",
    "parsedData.take(3)\n",
    "\n",
    "from pyspark.mllib.clustering import KMeans\n",
    "clusters = KMeans.train(parsedData, 4, maxIterations=10,runs=30, initializationMode=\"random\")\n",
    "\n",
    "iris1 = parsedData.first()\n",
    "iris1\n",
    "clusters.predict(iris1)\n",
    "\n",
    "prediction = clusters.predict(parsedData)\n",
    "prediction.collect()"
   ]
  },
  {
   "cell_type": "markdown",
   "metadata": {},
   "source": [
    "### 計算  Withing Cluster Sum of Square Error "
   ]
  },
  {
   "cell_type": "code",
   "execution_count": null,
   "metadata": {},
   "outputs": [],
   "source": [
    "%pyspark\n",
    "\n",
    "from math import sqrt\n",
    "def error(point):\n",
    "    center = clusters.centers[clusters.predict(point)] \n",
    "    return sqrt(sum([x**2 for x in (point - center)]))\n"
   ]
  },
  {
   "cell_type": "code",
   "execution_count": null,
   "metadata": {},
   "outputs": [],
   "source": [
    "%pyspark\n",
    "parsedData.take(3)\n",
    "WSSSE = parsedData.map(lambda point: error(point)).reduce(lambda x,y: x+ y)\n",
    "WSSSE"
   ]
  },
  {
   "cell_type": "markdown",
   "metadata": {},
   "source": [
    "## 客戶分群"
   ]
  },
  {
   "cell_type": "code",
   "execution_count": null,
   "metadata": {},
   "outputs": [],
   "source": [
    "raw_data = sc.textFile('file:/tmp/customers.csv')\n",
    "raw_data.take(3)\n",
    "header = raw_data.first()\n",
    "skip_data = raw_data.filter(lambda line: line != header )\n",
    "parsed_data = skip_data.map(lambda e: numpy.array(e.split(',')[3:]) )\n",
    "\n",
    "from pyspark.mllib.clustering import KMeans\n",
    "clusters = KMeans.train(parsed_data, 5, maxIterations=10,runs=30, initializationMode=\"random\")\n",
    "predictions = clusters.predict(parsed_data).collect()\n",
    "predictions"
   ]
  },
  {
   "cell_type": "markdown",
   "metadata": {},
   "source": [
    "## ALS 推薦"
   ]
  },
  {
   "cell_type": "markdown",
   "metadata": {},
   "source": [
    "### 載入資料"
   ]
  },
  {
   "cell_type": "code",
   "execution_count": null,
   "metadata": {},
   "outputs": [],
   "source": [
    "%pyspark\n",
    "rawData = sc.textFile(\"/tmp/u.data\") \n",
    "rawData.first()\n",
    "\n",
    "rawRatings = rawData.map(lambda e: e.split()) \n",
    "rawRatings.take(3)"
   ]
  },
  {
   "cell_type": "markdown",
   "metadata": {},
   "source": [
    "### 資料轉換"
   ]
  },
  {
   "cell_type": "code",
   "execution_count": null,
   "metadata": {},
   "outputs": [],
   "source": [
    "%pyspark\n",
    "from pyspark.sql import Row\n",
    "#將資料轉進ratingsRDD 物件 \n",
    "ratingsRDD = rawRatings.map(\\\n",
    "           lambda p: Row(userId=int(p[0]), \\\n",
    "           movieId=int(p[1]), \\\n",
    "           rating=float(p[2]), \\\n",
    "           timestamp=int(p[3])))\n",
    "\n",
    "ratingsRDD.take(3)"
   ]
  },
  {
   "cell_type": "code",
   "execution_count": null,
   "metadata": {},
   "outputs": [],
   "source": [
    "%pyspark\n",
    "ratings = spark.createDataFrame(ratingsRDD)\n",
    "(training, test) = ratings.randomSplit([0.8, 0.2])\n"
   ]
  },
  {
   "cell_type": "markdown",
   "metadata": {},
   "source": [
    "### 產生模型"
   ]
  },
  {
   "cell_type": "code",
   "execution_count": null,
   "metadata": {},
   "outputs": [],
   "source": [
    "%pyspark\n",
    "from pyspark.ml.recommendation import ALS\n",
    "als = ALS(rank=50, maxIter=10, regParam=0.01, \\\n",
    "      userCol=\"userId\", itemCol=\"movieId\", \\\n",
    "      ratingCol=\"rating\")\n",
    "model = als.fit(training)\n",
    "model"
   ]
  },
  {
   "cell_type": "markdown",
   "metadata": {},
   "source": [
    "### 檢視模型"
   ]
  },
  {
   "cell_type": "code",
   "execution_count": null,
   "metadata": {},
   "outputs": [],
   "source": [
    "%pyspark\n",
    "#dir(model)\n",
    "#model.itemFactors.take(1)\n",
    "model.itemFactors.count()\n",
    "model.userFactors.count()"
   ]
  },
  {
   "cell_type": "markdown",
   "metadata": {},
   "source": [
    "### 產生topk 推薦"
   ]
  },
  {
   "cell_type": "code",
   "execution_count": null,
   "metadata": {},
   "outputs": [],
   "source": [
    "%pyspark\n",
    "userRecs = model.recommendForAllUsers(10)\n",
    "userRecs.select('recommendations').take(1)\n",
    "\n",
    "movieRecs = model.recommendForAllItems(10)\n",
    "movieRecs.select('recommendations').take(1)\n"
   ]
  },
  {
   "cell_type": "markdown",
   "metadata": {},
   "source": [
    "## Cosine Similarties"
   ]
  },
  {
   "cell_type": "code",
   "execution_count": null,
   "metadata": {},
   "outputs": [],
   "source": [
    "%pyspark\n",
    "def cosineSimilarity(x, y):\n",
    "    return x.dot(y)/(x.norm(2)*y.norm(2))"
   ]
  },
  {
   "cell_type": "code",
   "execution_count": null,
   "metadata": {},
   "outputs": [],
   "source": [
    "%pyspark\n",
    "from pyspark.mllib.linalg import Vectors\n",
    "features = model.itemFactors.filter('id == 567').select('features')\n",
    "features_vec = features.rdd.map(lambda e: e['features']).collect()\n",
    "\n",
    "features1 = model.itemFactors.filter('id == 789').select('features')\n",
    "features1_vec = features1.rdd.map(lambda e: e['features']).collect()\n",
    "#features_vec\n",
    "itemVector = Vectors.dense(features_vec[0]) \n",
    "itemVector1 = Vectors.dense(features1_vec[0])\n",
    "cosineSimilarity(itemVector, itemVector1)"
   ]
  },
  {
   "cell_type": "code",
   "execution_count": null,
   "metadata": {},
   "outputs": [],
   "source": [
    "%pyspark\n",
    "from pyspark.mllib.linalg.distributed import RowMatrix\n",
    "mat = RowMatrix(model.itemFactors.rdd.map(lambda e: e['features']))\n",
    "res = mat.columnSimilarities()\n",
    "res.entries.collect()"
   ]
  },
  {
   "cell_type": "code",
   "execution_count": null,
   "metadata": {},
   "outputs": [],
   "source": [
    "%pyspark\n",
    "from pyspark.mllib.linalg.distributed import RowMatrix, IndexedRowMatrix,IndexedRow\n",
    "from pyspark.mllib.linalg.distributed import CoordinateMatrix, MatrixEntry\n",
    "mat = IndexedRowMatrix(model.itemFactors.rdd.map(lambda x: IndexedRow(x[0],x[1]))).toBlockMatrix().transpose().toIndexedRowMatrix()\n",
    "exact = mat.columnSimilarities() \n",
    "res = exact.entries.collect()\n",
    "\n"
   ]
  },
  {
   "cell_type": "code",
   "execution_count": null,
   "metadata": {},
   "outputs": [],
   "source": [
    "%pyspark\n",
    "moviedic = {}\n",
    "with open('/tmp/u.item', 'r') as f:\n",
    "    for l in f.readlines():\n",
    "        rec = l.strip().split('|')\n",
    "        moviedic[int(rec[0])] = rec[1]\n",
    "\n",
    "ary = []\n",
    "for ele in res:\n",
    "    if ele.i == 181:\n",
    "        ary.append((moviedic[ele.i], moviedic[ele.j], ele.value) )\n",
    "        \n",
    "import operator\n",
    "swd = sorted(ary, key = operator.itemgetter(2), reverse=True)\n",
    "for ele in swd[0:10]:\n",
    "    print(ele)\n"
   ]
  },
  {
   "cell_type": "markdown",
   "metadata": {},
   "source": [
    "### 評估推薦模型"
   ]
  },
  {
   "cell_type": "code",
   "execution_count": null,
   "metadata": {},
   "outputs": [],
   "source": [
    "from pyspark.ml.evaluation import RegressionEvaluator\n",
    "predictions = model.transform(test).na.drop()\n",
    "evaluator = RegressionEvaluator(metricName=\"rmse\",labelCol=\"rating\",predictionCol=\"prediction\") \n",
    "rmse = evaluator.evaluate(predictions)\n",
    "rmse"
   ]
  },
  {
   "cell_type": "markdown",
   "metadata": {},
   "source": [
    "## Stateless"
   ]
  },
  {
   "cell_type": "code",
   "execution_count": null,
   "metadata": {},
   "outputs": [],
   "source": [
    "from pyspark import SparkContext\n",
    "from pyspark.streaming import StreamingContext\n",
    "import sys\n",
    "sc = SparkContext(appName=\"StreamingErrorCount\")\n",
    "sc.setLogLevel(\"ERROR\")\n",
    "ssc = StreamingContext(sc, 5)\n",
    "#ssc.checkpoint(\"hdfs:///user/hdp/streaming\")\n",
    "lines = ssc.socketTextStream(sys.argv[1], int(sys.argv[2]))\n",
    "\n",
    "counts = lines.flatMap(lambda line: line.split(\" \"))\\\n",
    "    .filter(lambda word:\"ERROR\" in word)\\\n",
    "    .map(lambda word: (word, 1))\\\n",
    "    .reduceByKey(lambda a, b: a+b)\n",
    "\n",
    "counts.pprint()\n",
    "\n",
    "ssc.start()\n",
    "ssc.awaitTermination()"
   ]
  },
  {
   "cell_type": "markdown",
   "metadata": {},
   "source": [
    "## Stateful"
   ]
  },
  {
   "cell_type": "code",
   "execution_count": null,
   "metadata": {},
   "outputs": [],
   "source": [
    "from pyspark.streaming import StreamingContext\n",
    "import sys\n",
    "sc = SparkContext(appName=\"StreamingErrorCount\")\n",
    "sc.setLogLevel(\"ERROR\")\n",
    "ssc = StreamingContext(sc, 1)\n",
    "#ssc.checkpoint#(\"hdfs:///user/hdp/streaming\")\n",
    "ssc.checkpoint(\"file:///tmp/streaming\")\n",
    "lines = ssc.socketTextStream(sys.argv[1], int(sys.argv[2]))\n",
    "\n",
    "counts = lines.flatMap(lambda line: line.split(\" \"))\\\n",
    "    .filter(lambda line:\"ERROR\" in line)\\\n",
    "    .map(lambda word: (word, 1))\\\n",
    "    .reduceByKeyAndWindow(lambda x, y: x + y, lambda x, y: x - y, 30, 10)\n",
    "\n",
    "counts.pprint()\n",
    "\n",
    "ssc.start()\n",
    "ssc.awaitTermination()"
   ]
  }
 ],
 "metadata": {
  "kernelspec": {
   "display_name": "Python 3",
   "language": "python",
   "name": "python3"
  },
  "language_info": {
   "codemirror_mode": {
    "name": "ipython",
    "version": 3
   },
   "file_extension": ".py",
   "mimetype": "text/x-python",
   "name": "python",
   "nbconvert_exporter": "python",
   "pygments_lexer": "ipython3",
   "version": "3.6.2"
  }
 },
 "nbformat": 4,
 "nbformat_minor": 2
}
