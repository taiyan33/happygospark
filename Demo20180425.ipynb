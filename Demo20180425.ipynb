{
 "cells": [
  {
   "cell_type": "markdown",
   "metadata": {},
   "source": [
    "## KMeans Clustering"
   ]
  },
  {
   "cell_type": "code",
   "execution_count": null,
   "metadata": {},
   "outputs": [],
   "source": [
    "%pyspark\n",
    "raw_data = sc.textFile('file:/tmp/iris.csv')\n",
    "raw_data.take(3)\n",
    "\n",
    "header = raw_data.first()\n",
    "skip_data = raw_data.filter(lambda line : line != header)\n",
    "skip_data.take(3)\n",
    "\n",
    "import numpy \n",
    "parsedData = skip_data.map(lambda e: numpy.array(e.split(',')[0:4]) )\n",
    "parsedData.take(3)\n",
    "\n",
    "from pyspark.mllib.clustering import KMeans\n",
    "clusters = KMeans.train(parsedData,3, maxIterations=10,runs=30, initializationMode=\"random\")\n",
    "\n",
    "iris1 = parsedData.first()\n",
    "iris1\n",
    "clusters.predict(iris1)\n",
    "\n",
    "prediction = clusters.predict(parsedData)\n",
    "prediction.collect()"
   ]
  }
 ],
 "metadata": {
  "kernelspec": {
   "display_name": "Python 3",
   "language": "python",
   "name": "python3"
  },
  "language_info": {
   "codemirror_mode": {
    "name": "ipython",
    "version": 3
   },
   "file_extension": ".py",
   "mimetype": "text/x-python",
   "name": "python",
   "nbconvert_exporter": "python",
   "pygments_lexer": "ipython3",
   "version": "3.6.2"
  }
 },
 "nbformat": 4,
 "nbformat_minor": 2
}
