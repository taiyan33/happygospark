{
 "cells": [
  {
   "cell_type": "markdown",
   "metadata": {},
   "source": [
    "## KMeans Clustering"
   ]
  },
  {
   "cell_type": "markdown",
   "metadata": {},
   "source": [
    "### 建立KMeans 模型"
   ]
  },
  {
   "cell_type": "code",
   "execution_count": null,
   "metadata": {},
   "outputs": [],
   "source": [
    "%pyspark\n",
    "raw_data = sc.textFile('file:/tmp/iris.csv')\n",
    "raw_data.take(3)\n",
    "\n",
    "header = raw_data.first()\n",
    "skip_data = raw_data.filter(lambda line : line != header)\n",
    "skip_data.take(3)\n",
    "\n",
    "import numpy \n",
    "parsedData = skip_data.map(lambda e: \\\n",
    "    numpy.array( [float(ele) for ele in e.split(',')[0:4]] ) )\n",
    "parsedData.take(3)\n",
    "\n",
    "from pyspark.mllib.clustering import KMeans\n",
    "clusters = KMeans.train(parsedData, 4, maxIterations=10,runs=30, initializationMode=\"random\")\n",
    "\n",
    "iris1 = parsedData.first()\n",
    "iris1\n",
    "clusters.predict(iris1)\n",
    "\n",
    "prediction = clusters.predict(parsedData)\n",
    "prediction.collect()"
   ]
  },
  {
   "cell_type": "markdown",
   "metadata": {},
   "source": [
    "### 計算  Withing Cluster Sum of Square Error "
   ]
  },
  {
   "cell_type": "code",
   "execution_count": null,
   "metadata": {},
   "outputs": [],
   "source": [
    "%pyspark\n",
    "\n",
    "from math import sqrt\n",
    "def error(point):\n",
    "    center = clusters.centers[clusters.predict(point)] \n",
    "    return sqrt(sum([x**2 for x in (point - center)]))\n"
   ]
  },
  {
   "cell_type": "code",
   "execution_count": null,
   "metadata": {},
   "outputs": [],
   "source": [
    "%pyspark\n",
    "parsedData.take(3)\n",
    "WSSSE = parsedData.map(lambda point: error(point)).reduce(lambda x,y: x+ y)\n",
    "WSSSE"
   ]
  },
  {
   "cell_type": "markdown",
   "metadata": {},
   "source": [
    "## 客戶分群"
   ]
  },
  {
   "cell_type": "code",
   "execution_count": null,
   "metadata": {},
   "outputs": [],
   "source": [
    "raw_data = sc.textFile('file:/tmp/customers.csv')\n",
    "raw_data.take(3)\n",
    "header = raw_data.first()\n",
    "skip_data = raw_data.filter(lambda line: line != header )\n",
    "parsed_data = skip_data.map(lambda e: numpy.array(e.split(',')[3:]) )\n",
    "\n",
    "from pyspark.mllib.clustering import KMeans\n",
    "clusters = KMeans.train(parsed_data, 5, maxIterations=10,runs=30, initializationMode=\"random\")\n",
    "predictions = clusters.predict(parsed_data).collect()\n",
    "predictions"
   ]
  },
  {
   "cell_type": "markdown",
   "metadata": {},
   "source": [
    "## ALS 推薦"
   ]
  },
  {
   "cell_type": "markdown",
   "metadata": {},
   "source": [
    "### 載入資料"
   ]
  },
  {
   "cell_type": "code",
   "execution_count": null,
   "metadata": {},
   "outputs": [],
   "source": [
    "%pyspark\n",
    "rawData = sc.textFile(\"/tmp/u.data\") \n",
    "rawData.first()\n",
    "\n",
    "rawRatings = rawData.map(lambda e: e.split()) \n",
    "rawRatings.take(3)"
   ]
  },
  {
   "cell_type": "markdown",
   "metadata": {},
   "source": [
    "### 資料轉換"
   ]
  },
  {
   "cell_type": "code",
   "execution_count": null,
   "metadata": {},
   "outputs": [],
   "source": [
    "%pyspark\n",
    "from pyspark.sql import Row\n",
    "#將資料轉進ratingsRDD 物件 \n",
    "ratingsRDD = rawRatings.map(\\\n",
    "           lambda p: Row(userId=int(p[0]), \\\n",
    "           movieId=int(p[1]), \\\n",
    "           rating=float(p[2]), \\\n",
    "           timestamp=int(p[3])))\n",
    "\n",
    "ratingsRDD.take(3)"
   ]
  },
  {
   "cell_type": "code",
   "execution_count": null,
   "metadata": {},
   "outputs": [],
   "source": [
    "%pyspark\n",
    "ratings = spark.createDataFrame(ratingsRDD)\n",
    "(training, test) = ratings.randomSplit([0.8, 0.2])\n"
   ]
  },
  {
   "cell_type": "markdown",
   "metadata": {},
   "source": [
    "### 產生模型"
   ]
  },
  {
   "cell_type": "code",
   "execution_count": null,
   "metadata": {},
   "outputs": [],
   "source": [
    "%pyspark\n",
    "from pyspark.ml.recommendation import ALS\n",
    "als = ALS(rank=50, maxIter=10, regParam=0.01, \\\n",
    "      userCol=\"userId\", itemCol=\"movieId\", \\\n",
    "      ratingCol=\"rating\")\n",
    "model = als.fit(training)\n",
    "model"
   ]
  },
  {
   "cell_type": "markdown",
   "metadata": {},
   "source": [
    "### 檢視模型"
   ]
  },
  {
   "cell_type": "code",
   "execution_count": null,
   "metadata": {},
   "outputs": [],
   "source": [
    "%pyspark\n",
    "#dir(model)\n",
    "#model.itemFactors.take(1)\n",
    "model.itemFactors.count()\n",
    "model.userFactors.count()"
   ]
  },
  {
   "cell_type": "markdown",
   "metadata": {},
   "source": [
    "### 產生topk 推薦"
   ]
  },
  {
   "cell_type": "code",
   "execution_count": null,
   "metadata": {},
   "outputs": [],
   "source": [
    "%pyspark\n",
    "userRecs = model.recommendForAllUsers(10)\n",
    "userRecs.select('recommendations').take(1)\n",
    "\n",
    "movieRecs = model.recommendForAllItems(10)\n",
    "movieRecs.select('recommendations').take(1)\n"
   ]
  }
 ],
 "metadata": {
  "kernelspec": {
   "display_name": "Python 3",
   "language": "python",
   "name": "python3"
  },
  "language_info": {
   "codemirror_mode": {
    "name": "ipython",
    "version": 3
   },
   "file_extension": ".py",
   "mimetype": "text/x-python",
   "name": "python",
   "nbconvert_exporter": "python",
   "pygments_lexer": "ipython3",
   "version": "3.6.2"
  }
 },
 "nbformat": 4,
 "nbformat_minor": 2
}
